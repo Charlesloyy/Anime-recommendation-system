{
 "cells": [
  {
   "cell_type": "code",
   "execution_count": 1,
   "metadata": {},
   "outputs": [],
   "source": [
    "import pandas as pd\n",
    "import seaborn as sns\n",
    "import numpy as np \n",
    "import matplotlib.pyplot as plt\n",
    "from sklearn.feature_extraction.text import TfidfVectorizer\n",
    "from sklearn.metrics.pairwise import cosine_similarity\n",
    "import difflib\n",
    "%matplotlib inline"
   ]
  },
  {
   "cell_type": "code",
   "execution_count": 2,
   "metadata": {},
   "outputs": [],
   "source": [
    "df = pd.read_csv(\"anime.csv\")"
   ]
  },
  {
   "cell_type": "code",
   "execution_count": 3,
   "metadata": {},
   "outputs": [
    {
     "data": {
      "text/html": [
       "<div>\n",
       "<style scoped>\n",
       "    .dataframe tbody tr th:only-of-type {\n",
       "        vertical-align: middle;\n",
       "    }\n",
       "\n",
       "    .dataframe tbody tr th {\n",
       "        vertical-align: top;\n",
       "    }\n",
       "\n",
       "    .dataframe thead th {\n",
       "        text-align: right;\n",
       "    }\n",
       "</style>\n",
       "<table border=\"1\" class=\"dataframe\">\n",
       "  <thead>\n",
       "    <tr style=\"text-align: right;\">\n",
       "      <th></th>\n",
       "      <th>title</th>\n",
       "      <th>type</th>\n",
       "      <th>plot</th>\n",
       "      <th>genre</th>\n",
       "      <th>released</th>\n",
       "      <th>status</th>\n",
       "      <th>other_names</th>\n",
       "      <th>image_dir</th>\n",
       "    </tr>\n",
       "  </thead>\n",
       "  <tbody>\n",
       "    <tr>\n",
       "      <th>0</th>\n",
       "      <td>.Hack//G.U. Returner</td>\n",
       "      <td>Movie</td>\n",
       "      <td>hack//G.U. Returner is a single-episode OVA o...</td>\n",
       "      <td>Adventure, Drama, Game, Harem, Martial Arts, ...</td>\n",
       "      <td>2007</td>\n",
       "      <td>Completed</td>\n",
       "      <td>.HACK//G.U. RETURNER</td>\n",
       "      <td>C:\\Users\\Oloye\\Desktop\\gogo_anime\\HackGU_Retur...</td>\n",
       "    </tr>\n",
       "    <tr>\n",
       "      <th>1</th>\n",
       "      <td>.hack//G.U. Trilogy</td>\n",
       "      <td>Movie</td>\n",
       "      <td>Based on the CyberConnect2 HIT GAME, now will...</td>\n",
       "      <td>Action, Game, Harem, Seinen</td>\n",
       "      <td>2008</td>\n",
       "      <td>Completed</td>\n",
       "      <td>.hack//G.U. Trilogy</td>\n",
       "      <td>C:\\Users\\Oloye\\Desktop\\gogo_anime\\hackGU_Trilo...</td>\n",
       "    </tr>\n",
       "    <tr>\n",
       "      <th>2</th>\n",
       "      <td>.hack//Gift</td>\n",
       "      <td>OVA</td>\n",
       "      <td>As an expression of gratitude for the heroes ...</td>\n",
       "      <td>Comedy, Fantasy, Game</td>\n",
       "      <td>2003</td>\n",
       "      <td>Completed</td>\n",
       "      <td>.hack//Gift</td>\n",
       "      <td>C:\\Users\\Oloye\\Desktop\\gogo_anime\\hackGift.jpg</td>\n",
       "    </tr>\n",
       "    <tr>\n",
       "      <th>3</th>\n",
       "      <td>.hack//Legend of the Twilight</td>\n",
       "      <td>TV Series</td>\n",
       "      <td>.hack//Legend of the Twilight</td>\n",
       "      <td>Adventure, Comedy, Fantasy, Sci-Fi, Shounen</td>\n",
       "      <td>2003</td>\n",
       "      <td>Completed</td>\n",
       "      <td>.hack//Tasogare no Udewa Densetsu, .hack//Ude...</td>\n",
       "      <td>C:\\Users\\Oloye\\Desktop\\gogo_anime\\hackLegend_o...</td>\n",
       "    </tr>\n",
       "    <tr>\n",
       "      <th>4</th>\n",
       "      <td>.hack//Liminality</td>\n",
       "      <td>TV Series</td>\n",
       "      <td>The story follows three girls, Mai Minase, Yu...</td>\n",
       "      <td>Mystery, Sci-Fi</td>\n",
       "      <td>2002</td>\n",
       "      <td>Completed</td>\n",
       "      <td>Hack OVA</td>\n",
       "      <td>C:\\Users\\Oloye\\Desktop\\gogo_anime\\hackLiminali...</td>\n",
       "    </tr>\n",
       "  </tbody>\n",
       "</table>\n",
       "</div>"
      ],
      "text/plain": [
       "                           title        type  \\\n",
       "0           .Hack//G.U. Returner       Movie   \n",
       "1            .hack//G.U. Trilogy       Movie   \n",
       "2                    .hack//Gift         OVA   \n",
       "3  .hack//Legend of the Twilight   TV Series   \n",
       "4              .hack//Liminality   TV Series   \n",
       "\n",
       "                                                plot  \\\n",
       "0   hack//G.U. Returner is a single-episode OVA o...   \n",
       "1   Based on the CyberConnect2 HIT GAME, now will...   \n",
       "2   As an expression of gratitude for the heroes ...   \n",
       "3                      .hack//Legend of the Twilight   \n",
       "4   The story follows three girls, Mai Minase, Yu...   \n",
       "\n",
       "                                               genre  released      status  \\\n",
       "0   Adventure, Drama, Game, Harem, Martial Arts, ...      2007   Completed   \n",
       "1                        Action, Game, Harem, Seinen      2008   Completed   \n",
       "2                              Comedy, Fantasy, Game      2003   Completed   \n",
       "3        Adventure, Comedy, Fantasy, Sci-Fi, Shounen      2003   Completed   \n",
       "4                                    Mystery, Sci-Fi      2002   Completed   \n",
       "\n",
       "                                         other_names  \\\n",
       "0                               .HACK//G.U. RETURNER   \n",
       "1                                .hack//G.U. Trilogy   \n",
       "2                                        .hack//Gift   \n",
       "3   .hack//Tasogare no Udewa Densetsu, .hack//Ude...   \n",
       "4                                           Hack OVA   \n",
       "\n",
       "                                           image_dir  \n",
       "0  C:\\Users\\Oloye\\Desktop\\gogo_anime\\HackGU_Retur...  \n",
       "1  C:\\Users\\Oloye\\Desktop\\gogo_anime\\hackGU_Trilo...  \n",
       "2     C:\\Users\\Oloye\\Desktop\\gogo_anime\\hackGift.jpg  \n",
       "3  C:\\Users\\Oloye\\Desktop\\gogo_anime\\hackLegend_o...  \n",
       "4  C:\\Users\\Oloye\\Desktop\\gogo_anime\\hackLiminali...  "
      ]
     },
     "execution_count": 3,
     "metadata": {},
     "output_type": "execute_result"
    }
   ],
   "source": [
    "df.head()"
   ]
  },
  {
   "cell_type": "code",
   "execution_count": 4,
   "metadata": {},
   "outputs": [
    {
     "name": "stdout",
     "output_type": "stream",
     "text": [
      "<class 'pandas.core.frame.DataFrame'>\n",
      "RangeIndex: 136 entries, 0 to 135\n",
      "Data columns (total 8 columns):\n",
      " #   Column       Non-Null Count  Dtype \n",
      "---  ------       --------------  ----- \n",
      " 0   title        136 non-null    object\n",
      " 1   type         136 non-null    object\n",
      " 2   plot         133 non-null    object\n",
      " 3   genre        136 non-null    object\n",
      " 4   released     136 non-null    int64 \n",
      " 5   status       136 non-null    object\n",
      " 6   other_names  122 non-null    object\n",
      " 7   image_dir    136 non-null    object\n",
      "dtypes: int64(1), object(7)\n",
      "memory usage: 8.6+ KB\n"
     ]
    }
   ],
   "source": [
    "df.info()"
   ]
  },
  {
   "cell_type": "code",
   "execution_count": 5,
   "metadata": {},
   "outputs": [
    {
     "data": {
      "text/plain": [
       "title           0\n",
       "type            0\n",
       "plot            3\n",
       "genre           0\n",
       "released        0\n",
       "status          0\n",
       "other_names    14\n",
       "image_dir       0\n",
       "dtype: int64"
      ]
     },
     "execution_count": 5,
     "metadata": {},
     "output_type": "execute_result"
    }
   ],
   "source": [
    "df.isnull().sum()"
   ]
  },
  {
   "cell_type": "code",
   "execution_count": 6,
   "metadata": {},
   "outputs": [],
   "source": [
    "selected_column = [\"genre\", \"plot\", \"type\", \"other_names\"]"
   ]
  },
  {
   "cell_type": "code",
   "execution_count": 7,
   "metadata": {},
   "outputs": [],
   "source": [
    "for feature in selected_column:\n",
    "    df[feature] = df[feature].fillna(\"\")"
   ]
  },
  {
   "cell_type": "code",
   "execution_count": 8,
   "metadata": {},
   "outputs": [],
   "source": [
    "combined = df[\"genre\"] +\"\"+df[\"plot\"]+\"\"+df[\"type\"]+\"\"+df[\"other_names\"]"
   ]
  },
  {
   "cell_type": "code",
   "execution_count": 9,
   "metadata": {},
   "outputs": [
    {
     "data": {
      "text/plain": [
       "0       Adventure, Drama, Game, Harem, Martial Arts, ...\n",
       "1       Action, Game, Harem, Seinen Based on the Cybe...\n",
       "2       Comedy, Fantasy, Game As an expression of gra...\n",
       "3       Adventure, Comedy, Fantasy, Sci-Fi, Shounen ....\n",
       "4       Mystery, Sci-Fi The story follows three girls...\n",
       "                             ...                        \n",
       "131     Romance History of the most venomous tongue a...\n",
       "132     Comedy, Ecchi, Fantasy, Parody Imamiya Satosh...\n",
       "133     Comedy, Ecchi, Fantasy, Parody Childhood frie...\n",
       "134     Action, Comedy, Harem, Martial Arts, Romance,...\n",
       "135     Action, Ecchi, Harem, Romance, School, Supern...\n",
       "Length: 136, dtype: object"
      ]
     },
     "execution_count": 9,
     "metadata": {},
     "output_type": "execute_result"
    }
   ],
   "source": [
    "combined"
   ]
  },
  {
   "cell_type": "code",
   "execution_count": 10,
   "metadata": {},
   "outputs": [],
   "source": [
    "tf = TfidfVectorizer()"
   ]
  },
  {
   "cell_type": "code",
   "execution_count": 11,
   "metadata": {},
   "outputs": [],
   "source": [
    "feature_vect = tf.fit_transform(combined)"
   ]
  },
  {
   "cell_type": "code",
   "execution_count": 12,
   "metadata": {},
   "outputs": [],
   "source": [
    "similar = cosine_similarity(feature_vect)"
   ]
  },
  {
   "cell_type": "code",
   "execution_count": 13,
   "metadata": {},
   "outputs": [],
   "source": [
    "list_of_titles = df[\"title\"].tolist()"
   ]
  },
  {
   "cell_type": "code",
   "execution_count": 17,
   "metadata": {},
   "outputs": [],
   "source": [
    "def movie_recommend():\n",
    "    movie = input(\"Enter movie title: \")\n",
    "    \n",
    "    find_close_match = difflib.get_close_matches(movie, list_of_titles)\n",
    "    close_match = find_close_match[0]\n",
    "    movie_index = df[df.title == close_match].index.values[0]\n",
    "    similar_score = list(enumerate(similar[movie_index]))\n",
    "    sorted_list = sorted(similar_score, key = lambda x:x[1], reverse = True)\n",
    "    \n",
    "    \n",
    "    print (\"Movie recommended are: \")\n",
    "\n",
    "    i = 1\n",
    "\n",
    "    for film in sorted_list:\n",
    "        index = film[0]\n",
    "        title_movie  = df[df.index == index][\"title\"].values[0]\n",
    "        if (i<31):\n",
    "            print(i, \".\", title_movie)\n",
    "            i+=1"
   ]
  },
  {
   "cell_type": "code",
   "execution_count": 18,
   "metadata": {},
   "outputs": [
    {
     "name": "stdout",
     "output_type": "stream",
     "text": [
      "Movie recommended are: \n",
      "1 . .hack//Gift\n",
      "2 . .hack//Roots\n",
      "3 . .hack//Tasogare no Udewa Densetsu (Dub)\n",
      "4 . .hack//Liminality\n",
      "5 . .hack//The Movie: Sekai no Mukou ni\n",
      "6 . .hack//Legend of the Twilight\n",
      "7 . 86 Part 2 (Dub)\n",
      "8 . 3x3 Eyes (Dub)\n",
      "9 . 009 Re:Cyborg (Dub)\n",
      "10 . .Hack//Sign\n",
      "11 . 86\n",
      "12 . .hack//G.U. Trilogy\n",
      "13 . .hack//Sign (Dub)\n",
      "14 . .Hack//G.U. Returner\n",
      "15 . .hack//Roots (Dub)\n",
      "16 . 3 x 3 Eyes\n",
      "17 . 86 (Dub)\n",
      "18 . .hack//Liminality (Dub)\n",
      "19 . A Little Snow Fairy Sugar (Dub)\n",
      "20 . A.I.C.O.: Incarnation\n",
      "21 . A.I.C.O.: Incarnation (Dub)\n",
      "22 . 3-gatsu no Lion 2nd Season (Dub)\n",
      "23 . 009 Re:Cyborg\n",
      "24 . 6 Angels\n",
      "25 . 100-man no Inochi no Ue ni Ore wa Tatteiru\n",
      "26 . 100-man no Inochi no Ue ni Ore wa Tatteiru (Dub)\n",
      "27 . 100% Perfect Love\n",
      "28 . 2.43: Seiin Koukou Danshi Volley-bu\n",
      "29 . 3x3 Eyes: Seima Densetsu\n",
      "30 . 3x3 Eyes: Seima Densetsu (Dub)\n"
     ]
    }
   ],
   "source": [
    "ft = movie_recommend()\n"
   ]
  },
  {
   "cell_type": "code",
   "execution_count": 14,
   "metadata": {},
   "outputs": [],
   "source": [
    "import pickle\n",
    "pickle.dump(df, open(\"dataset\", \"wb\"))\n",
    "pickle.dump(similar, open(\"similarity.pkl\", \"wb\"))\n"
   ]
  },
  {
   "cell_type": "code",
   "execution_count": null,
   "metadata": {},
   "outputs": [],
   "source": []
  }
 ],
 "metadata": {
  "kernelspec": {
   "display_name": "Python 3",
   "language": "python",
   "name": "python3"
  },
  "language_info": {
   "codemirror_mode": {
    "name": "ipython",
    "version": 3
   },
   "file_extension": ".py",
   "mimetype": "text/x-python",
   "name": "python",
   "nbconvert_exporter": "python",
   "pygments_lexer": "ipython3",
   "version": "3.10.5"
  },
  "orig_nbformat": 4
 },
 "nbformat": 4,
 "nbformat_minor": 2
}
