{
 "cells": [
  {
   "cell_type": "code",
   "execution_count": 1,
   "metadata": {},
   "outputs": [],
   "source": [
    "import pandas as pd\n",
    "import seaborn as sns\n",
    "import numpy as np \n",
    "import matplotlib.pyplot as plt\n",
    "from sklearn.feature_extraction.text import TfidfVectorizer\n",
    "from sklearn.metrics.pairwise import cosine_similarity\n",
    "import difflib\n",
    "%matplotlib inline"
   ]
  },
  {
   "cell_type": "code",
   "execution_count": 2,
   "metadata": {},
   "outputs": [],
   "source": [
    "df = pd.read_csv(\"anime.csv\")"
   ]
  },
  {
   "cell_type": "code",
   "execution_count": 3,
   "metadata": {},
   "outputs": [
    {
     "data": {
      "text/html": [
       "<div>\n",
       "<style scoped>\n",
       "    .dataframe tbody tr th:only-of-type {\n",
       "        vertical-align: middle;\n",
       "    }\n",
       "\n",
       "    .dataframe tbody tr th {\n",
       "        vertical-align: top;\n",
       "    }\n",
       "\n",
       "    .dataframe thead th {\n",
       "        text-align: right;\n",
       "    }\n",
       "</style>\n",
       "<table border=\"1\" class=\"dataframe\">\n",
       "  <thead>\n",
       "    <tr style=\"text-align: right;\">\n",
       "      <th></th>\n",
       "      <th>title</th>\n",
       "      <th>type</th>\n",
       "      <th>plot</th>\n",
       "      <th>genre</th>\n",
       "      <th>released</th>\n",
       "      <th>status</th>\n",
       "      <th>other_names</th>\n",
       "    </tr>\n",
       "  </thead>\n",
       "  <tbody>\n",
       "    <tr>\n",
       "      <th>0</th>\n",
       "      <td>.Hack//G.U. Returner</td>\n",
       "      <td>Movie</td>\n",
       "      <td>hack//G.U. Returner is a single-episode OVA o...</td>\n",
       "      <td>Adventure, Drama, Game, Harem, Martial Arts, ...</td>\n",
       "      <td>2007.0</td>\n",
       "      <td>Completed</td>\n",
       "      <td>.HACK//G.U. RETURNER</td>\n",
       "    </tr>\n",
       "    <tr>\n",
       "      <th>1</th>\n",
       "      <td>.hack//G.U. Trilogy</td>\n",
       "      <td>Movie</td>\n",
       "      <td>Based on the CyberConnect2 HIT GAME, now will...</td>\n",
       "      <td>Action, Game, Harem, Seinen</td>\n",
       "      <td>2008.0</td>\n",
       "      <td>Completed</td>\n",
       "      <td>.hack//G.U. Trilogy</td>\n",
       "    </tr>\n",
       "    <tr>\n",
       "      <th>2</th>\n",
       "      <td>.hack//Gift</td>\n",
       "      <td>OVA</td>\n",
       "      <td>As an expression of gratitude for the heroes ...</td>\n",
       "      <td>Comedy, Fantasy, Game</td>\n",
       "      <td>2003.0</td>\n",
       "      <td>Completed</td>\n",
       "      <td>.hack//Gift</td>\n",
       "    </tr>\n",
       "    <tr>\n",
       "      <th>3</th>\n",
       "      <td>.hack//Legend of the Twilight</td>\n",
       "      <td>TV Series</td>\n",
       "      <td>.hack//Legend of the Twilight</td>\n",
       "      <td>Adventure, Comedy, Fantasy, Sci-Fi, Shounen</td>\n",
       "      <td>2003.0</td>\n",
       "      <td>Completed</td>\n",
       "      <td>.hack//Tasogare no Udewa Densetsu, .hack//Ude...</td>\n",
       "    </tr>\n",
       "    <tr>\n",
       "      <th>4</th>\n",
       "      <td>.hack//Liminality</td>\n",
       "      <td>TV Series</td>\n",
       "      <td>The story follows three girls, Mai Minase, Yu...</td>\n",
       "      <td>Mystery, Sci-Fi</td>\n",
       "      <td>2002.0</td>\n",
       "      <td>Completed</td>\n",
       "      <td>Hack OVA</td>\n",
       "    </tr>\n",
       "  </tbody>\n",
       "</table>\n",
       "</div>"
      ],
      "text/plain": [
       "                           title        type  \\\n",
       "0           .Hack//G.U. Returner       Movie   \n",
       "1            .hack//G.U. Trilogy       Movie   \n",
       "2                    .hack//Gift         OVA   \n",
       "3  .hack//Legend of the Twilight   TV Series   \n",
       "4              .hack//Liminality   TV Series   \n",
       "\n",
       "                                                plot  \\\n",
       "0   hack//G.U. Returner is a single-episode OVA o...   \n",
       "1   Based on the CyberConnect2 HIT GAME, now will...   \n",
       "2   As an expression of gratitude for the heroes ...   \n",
       "3                      .hack//Legend of the Twilight   \n",
       "4   The story follows three girls, Mai Minase, Yu...   \n",
       "\n",
       "                                               genre  released      status  \\\n",
       "0   Adventure, Drama, Game, Harem, Martial Arts, ...    2007.0   Completed   \n",
       "1                        Action, Game, Harem, Seinen    2008.0   Completed   \n",
       "2                              Comedy, Fantasy, Game    2003.0   Completed   \n",
       "3        Adventure, Comedy, Fantasy, Sci-Fi, Shounen    2003.0   Completed   \n",
       "4                                    Mystery, Sci-Fi    2002.0   Completed   \n",
       "\n",
       "                                         other_names  \n",
       "0                               .HACK//G.U. RETURNER  \n",
       "1                                .hack//G.U. Trilogy  \n",
       "2                                        .hack//Gift  \n",
       "3   .hack//Tasogare no Udewa Densetsu, .hack//Ude...  \n",
       "4                                           Hack OVA  "
      ]
     },
     "execution_count": 3,
     "metadata": {},
     "output_type": "execute_result"
    }
   ],
   "source": [
    "df.head()"
   ]
  },
  {
   "cell_type": "code",
   "execution_count": 4,
   "metadata": {},
   "outputs": [
    {
     "name": "stdout",
     "output_type": "stream",
     "text": [
      "<class 'pandas.core.frame.DataFrame'>\n",
      "RangeIndex: 12248 entries, 0 to 12247\n",
      "Data columns (total 7 columns):\n",
      " #   Column       Non-Null Count  Dtype  \n",
      "---  ------       --------------  -----  \n",
      " 0   title        12248 non-null  object \n",
      " 1   type         12244 non-null  object \n",
      " 2   plot         11788 non-null  object \n",
      " 3   genre        12196 non-null  object \n",
      " 4   released     12245 non-null  float64\n",
      " 5   status       12248 non-null  object \n",
      " 6   other_names  11699 non-null  object \n",
      "dtypes: float64(1), object(6)\n",
      "memory usage: 669.9+ KB\n"
     ]
    }
   ],
   "source": [
    "df.info()"
   ]
  },
  {
   "cell_type": "code",
   "execution_count": 10,
   "metadata": {},
   "outputs": [
    {
     "data": {
      "text/plain": [
       "title          0\n",
       "type           0\n",
       "plot           0\n",
       "genre          0\n",
       "released       3\n",
       "status         0\n",
       "other_names    0\n",
       "dtype: int64"
      ]
     },
     "execution_count": 10,
     "metadata": {},
     "output_type": "execute_result"
    }
   ],
   "source": [
    "df.isnull().sum()"
   ]
  },
  {
   "cell_type": "code",
   "execution_count": 8,
   "metadata": {},
   "outputs": [],
   "source": [
    "selected_column = [\"genre\", \"plot\", \"type\", \"other_names\"]"
   ]
  },
  {
   "cell_type": "code",
   "execution_count": 9,
   "metadata": {},
   "outputs": [],
   "source": [
    "for feature in selected_column:\n",
    "    df[feature] = df[feature].fillna(\"\")"
   ]
  },
  {
   "cell_type": "code",
   "execution_count": 11,
   "metadata": {},
   "outputs": [],
   "source": [
    "combined = df[\"genre\"] +\"\"+df[\"plot\"]+\"\"+df[\"type\"]+\"\"+df[\"other_names\"]"
   ]
  },
  {
   "cell_type": "code",
   "execution_count": 12,
   "metadata": {},
   "outputs": [
    {
     "data": {
      "text/plain": [
       "0         Adventure, Drama, Game, Harem, Martial Arts, ...\n",
       "1         Action, Game, Harem, Seinen Based on the Cybe...\n",
       "2         Comedy, Fantasy, Game As an expression of gra...\n",
       "3         Adventure, Comedy, Fantasy, Sci-Fi, Shounen ....\n",
       "4         Mystery, Sci-Fi The story follows three girls...\n",
       "                               ...                        \n",
       "12243     Action, Adventure, Drama, Fantasy, Harem A ta...\n",
       "12244     Action, Adventure, Drama, Fantasy A talented ...\n",
       "12245     Drama, Romance, School, Slice of Life In the ...\n",
       "12246                    Sports ONA Left-Hand Layup!; 左手上篮\n",
       "12247     Romance, School Kokuhaku Jikkou Iinkai Movie ...\n",
       "Length: 12248, dtype: object"
      ]
     },
     "execution_count": 12,
     "metadata": {},
     "output_type": "execute_result"
    }
   ],
   "source": [
    "combined"
   ]
  },
  {
   "cell_type": "code",
   "execution_count": 13,
   "metadata": {},
   "outputs": [],
   "source": [
    "tf = TfidfVectorizer()"
   ]
  },
  {
   "cell_type": "code",
   "execution_count": 14,
   "metadata": {},
   "outputs": [],
   "source": [
    "feature_vect = tf.fit_transform(combined)"
   ]
  },
  {
   "cell_type": "code",
   "execution_count": 15,
   "metadata": {},
   "outputs": [],
   "source": [
    "similar = cosine_similarity(feature_vect)"
   ]
  },
  {
   "cell_type": "code",
   "execution_count": 16,
   "metadata": {},
   "outputs": [],
   "source": [
    "list_of_titles = df[\"title\"].tolist()"
   ]
  },
  {
   "cell_type": "code",
   "execution_count": 20,
   "metadata": {},
   "outputs": [],
   "source": [
    "def movie_recommend():\n",
    "    movie = input(\"Enter movie title: \")\n",
    "    \n",
    "    find_close_match = difflib.get_close_matches(movie, list_of_titles)\n",
    "    close_match = find_close_match[0]\n",
    "    movie_index = df[df.title == close_match].index.values[0]\n",
    "    similar_score = list(enumerate(similar[movie_index]))\n",
    "    sorted_list = sorted(similar_score, key = lambda x:x[1], reverse = True)\n",
    "    \n",
    "    \n",
    "    print (\"Movie recommended are: \")\n",
    "\n",
    "    i = 1\n",
    "\n",
    "    for film in sorted_list:\n",
    "        index = film[0]\n",
    "        title_movie  = df[df.index == index][\"title\"].values[0]\n",
    "        if (i<31):\n",
    "            print(i, \".\", title_movie)\n",
    "            i+=1"
   ]
  },
  {
   "cell_type": "code",
   "execution_count": 24,
   "metadata": {},
   "outputs": [
    {
     "name": "stdout",
     "output_type": "stream",
     "text": [
      "Movie recommended are: \n",
      "1 . Vinland Saga\n",
      "2 . Vinland Saga (Dub)\n",
      "3 . Vinland Saga Season 2 (Dub)\n",
      "4 . Vinland Saga Season 2\n",
      "5 . Dororo\n",
      "6 . Cike Wu Liuqi (Dub)\n",
      "7 . Cike Wu Liuqi (Japanese Dub)\n",
      "8 . How to Train Your Dragon Homecoming (2019) (Dub)\n",
      "9 . Baki The Grappler\n",
      "10 . Afro Samurai (Dub)\n",
      "11 . Ichi The Killer: Episode 0 (Dub)\n",
      "12 . Kochouki: Wakaki Nobunaga (Dub)\n",
      "13 . Crooked God Of War (2022)\n",
      "14 . Superman: The Animated Series (1996)\n",
      "15 . Hyouge Mono\n",
      "16 . Kochouki: Wakaki Nobunaga\n",
      "17 . Chiisana Viking Vickie\n",
      "18 . Chiisana Viking Vickie (Dub)\n",
      "19 . Peacemaker\n",
      "20 . Horus Prince of the Sun\n",
      "21 . I Return From The Heavens\n",
      "22 . The Strongest Heavenly Venerate in the Happy City\n",
      "23 . Kouchuu Ouja Mushiking: Mori no Tami no Densetsu\n",
      "24 . Araiguma Rascal\n",
      "25 . Nine Heavens Emperor God\n",
      "26 . Ganbare Genki\n",
      "27 . Shokugeki no Souma (Dub)\n",
      "28 . Dorohedoro\n",
      "29 . Shikkakumon no Saikyou Kenja\n",
      "30 . Sumomomo Momomo\n"
     ]
    }
   ],
   "source": [
    "ft = movie_recommend()\n"
   ]
  }
 ],
 "metadata": {
  "kernelspec": {
   "display_name": "Python 3",
   "language": "python",
   "name": "python3"
  },
  "language_info": {
   "codemirror_mode": {
    "name": "ipython",
    "version": 3
   },
   "file_extension": ".py",
   "mimetype": "text/x-python",
   "name": "python",
   "nbconvert_exporter": "python",
   "pygments_lexer": "ipython3",
   "version": "3.10.5"
  },
  "orig_nbformat": 4
 },
 "nbformat": 4,
 "nbformat_minor": 2
}
